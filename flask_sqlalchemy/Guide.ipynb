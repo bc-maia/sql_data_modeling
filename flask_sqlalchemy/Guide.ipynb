{
 "metadata": {
  "language_info": {
   "codemirror_mode": {
    "name": "ipython",
    "version": 3
   },
   "file_extension": ".py",
   "mimetype": "text/x-python",
   "name": "python",
   "nbconvert_exporter": "python",
   "pygments_lexer": "ipython3",
   "version": 3
  },
  "orig_nbformat": 2
 },
 "nbformat": 4,
 "nbformat_minor": 2,
 "cells": [
  {
   "source": [
    "## Write a Flask App\n",
    "Practice writing a Flask App!\n",
    "\n",
    "### Exercise 1\n",
    "* Write a Flask App that outputs 'Hello World!' when you run the application.\n",
    "* Run the application using `FLASK_APP=app flask run`, in debug mode.\n",
    "* Try using the method outlined above to run the application using `$ python3 app.py` instead, using the `if __name__ == '__main__':` method.\n",
    "\n",
    "### Exercise 2\n",
    "\n",
    "* Create a Postgres database for your application\n",
    "* Import FLask-SQLAlchemy into your Flask app\n",
    "* Connect from SQLAlchemy to your Postgres database on your local machine.\n",
    "  * This local machine's user is called `student`, with no password.\n",
    "  * Use the default database port to connect\n",
    "* Create an instance of the `SQLALchemy` class, that takes your flask app, and set it equal to a variable called `db`:\n",
    "\n",
    "```\n",
    "db = SQLAlchemy(app)\n",
    "```\n",
    "\n",
    "### Exercise 3\n",
    "\n",
    "* Create a SQLALchemy model, `Person`, with custom table name `persons`, that includes ID and name attributes, in the server script `app.py`.\n",
    "* Have SQLAlchemy create the `persons` table if it doesn't exist already, whenever the server is run.\n",
    "* Run the server.\n",
    "* In the terminal, check that SQLAlchemy ORM successfully created the table by connecting to the database using psql.\n",
    "\n",
    "### Exercise 4\n",
    "* Run the script, so that the persons table exists.\n",
    "* Run the application, with debug mode on.\n",
    "* Create a person record in the persons table, by connecting to psql and using `INSERT INTO`.\n",
    "                '* Change the index route from saying \"Hello World!\" to saying \"Hello\" to the name of a person in the persons table.\\n',\n",
    "                '* Preview the app in the browser, and see it output \"Hello\" next to the name of the person record in the database.',"
   ],
   "cell_type": "markdown",
   "metadata": {}
  },
  {
   "source": [
    "## Posgres via Docker\n",
    "\n",
    "* To Run docker container:\n",
    "\n",
    "    ```\n",
    "    docker run -d \\\n",
    "        --restart always \\\n",
    "        --name pgsql-udacity \\\n",
    "        -p 5432:5432 \\\n",
    "        -e POSTGRES_PASSWORD=passwd123 \\\n",
    "        -v /mnt/c/apps_database/pgsql:/var/lib/postgresql/udacity \\\n",
    "        postgres:latest\n",
    "    ```"
   ],
   "cell_type": "markdown",
   "metadata": {}
  }
 ]
}